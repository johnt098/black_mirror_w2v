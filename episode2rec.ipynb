{
 "cells": [
  {
   "cell_type": "code",
   "execution_count": 24,
   "metadata": {},
   "outputs": [],
   "source": [
    "import pandas as pd\n",
    "from sklearn.feature_extraction.text import TfidfVectorizer\n",
    "from sklearn.metrics.pairwise import linear_kernel\n",
    "import joblib"
   ]
  },
  {
   "cell_type": "markdown",
   "metadata": {},
   "source": [
    "# Loading the Dataset"
   ]
  },
  {
   "cell_type": "code",
   "execution_count": 25,
   "metadata": {},
   "outputs": [],
   "source": [
    "csv_lst = ['s1.csv', 's2.csv', 's3.csv', 's4.csv', 's5.csv', 's6.csv', 'interactive_film.csv', 'special.csv']\n",
    "\n",
    "df_lst = []\n",
    "\n",
    "for i in range(len(csv_lst)):\n",
    "    df_lst.append(pd.read_csv('data/' + csv_lst[i]))\n",
    "\n",
    "s1, s2, s3, s4, s5, s6, interactive_film, special = df_lst[0], df_lst[1], df_lst[2], df_lst[3], df_lst[4], df_lst[5], df_lst[6], df_lst[7]"
   ]
  },
  {
   "cell_type": "code",
   "execution_count": 26,
   "metadata": {},
   "outputs": [
    {
     "data": {
      "text/html": [
       "<div>\n",
       "<style scoped>\n",
       "    .dataframe tbody tr th:only-of-type {\n",
       "        vertical-align: middle;\n",
       "    }\n",
       "\n",
       "    .dataframe tbody tr th {\n",
       "        vertical-align: top;\n",
       "    }\n",
       "\n",
       "    .dataframe thead th {\n",
       "        text-align: right;\n",
       "    }\n",
       "</style>\n",
       "<table border=\"1\" class=\"dataframe\">\n",
       "  <thead>\n",
       "    <tr style=\"text-align: right;\">\n",
       "      <th></th>\n",
       "      <th>Episode</th>\n",
       "      <th>Text</th>\n",
       "    </tr>\n",
       "  </thead>\n",
       "  <tbody>\n",
       "    <tr>\n",
       "      <th>0</th>\n",
       "      <td>The National Anthem</td>\n",
       "      <td>\\n\\n\"The National Anthem\" is the series premie...</td>\n",
       "    </tr>\n",
       "    <tr>\n",
       "      <th>1</th>\n",
       "      <td>Fifteen Million Merits</td>\n",
       "      <td>\\n\\n\"Fifteen Million Merits\" is the second epi...</td>\n",
       "    </tr>\n",
       "    <tr>\n",
       "      <th>2</th>\n",
       "      <td>The Entire History of You</td>\n",
       "      <td>\\n\\n\"The Entire History of You\" is the third a...</td>\n",
       "    </tr>\n",
       "    <tr>\n",
       "      <th>3</th>\n",
       "      <td>Be Right Back</td>\n",
       "      <td>\\n\\n\"Be Right Back\" is the first episode of th...</td>\n",
       "    </tr>\n",
       "    <tr>\n",
       "      <th>4</th>\n",
       "      <td>White Bear</td>\n",
       "      <td>\\n\\n\"White Bear\" is the second episode of the ...</td>\n",
       "    </tr>\n",
       "  </tbody>\n",
       "</table>\n",
       "</div>"
      ],
      "text/plain": [
       "                     Episode  \\\n",
       "0        The National Anthem   \n",
       "1     Fifteen Million Merits   \n",
       "2  The Entire History of You   \n",
       "3              Be Right Back   \n",
       "4                 White Bear   \n",
       "\n",
       "                                                Text  \n",
       "0  \\n\\n\"The National Anthem\" is the series premie...  \n",
       "1  \\n\\n\"Fifteen Million Merits\" is the second epi...  \n",
       "2  \\n\\n\"The Entire History of You\" is the third a...  \n",
       "3  \\n\\n\"Be Right Back\" is the first episode of th...  \n",
       "4  \\n\\n\"White Bear\" is the second episode of the ...  "
      ]
     },
     "execution_count": 26,
     "metadata": {},
     "output_type": "execute_result"
    }
   ],
   "source": [
    "df = pd.concat([s1, s2, s3, s4, s5, s6, interactive_film, special], ignore_index=True)\n",
    "df.head(5)"
   ]
  },
  {
   "cell_type": "markdown",
   "metadata": {},
   "source": [
    "# Training the Model"
   ]
  },
  {
   "cell_type": "code",
   "execution_count": 27,
   "metadata": {},
   "outputs": [
    {
     "data": {
      "text/html": [
       "<div>\n",
       "<style scoped>\n",
       "    .dataframe tbody tr th:only-of-type {\n",
       "        vertical-align: middle;\n",
       "    }\n",
       "\n",
       "    .dataframe tbody tr th {\n",
       "        vertical-align: top;\n",
       "    }\n",
       "\n",
       "    .dataframe thead th {\n",
       "        text-align: right;\n",
       "    }\n",
       "</style>\n",
       "<table border=\"1\" class=\"dataframe\">\n",
       "  <thead>\n",
       "    <tr style=\"text-align: right;\">\n",
       "      <th></th>\n",
       "      <th>Episode</th>\n",
       "    </tr>\n",
       "  </thead>\n",
       "  <tbody>\n",
       "    <tr>\n",
       "      <th>21</th>\n",
       "      <td>Joan Is Awful</td>\n",
       "    </tr>\n",
       "    <tr>\n",
       "      <th>27</th>\n",
       "      <td>White Christmas</td>\n",
       "    </tr>\n",
       "    <tr>\n",
       "      <th>3</th>\n",
       "      <td>Be Right Back</td>\n",
       "    </tr>\n",
       "    <tr>\n",
       "      <th>20</th>\n",
       "      <td>Rachel, Jack and Ashley Too</td>\n",
       "    </tr>\n",
       "    <tr>\n",
       "      <th>16</th>\n",
       "      <td>Metalhead</td>\n",
       "    </tr>\n",
       "  </tbody>\n",
       "</table>\n",
       "</div>"
      ],
      "text/plain": [
       "                        Episode\n",
       "21                Joan Is Awful\n",
       "27              White Christmas\n",
       "3                 Be Right Back\n",
       "20  Rachel, Jack and Ashley Too\n",
       "16                    Metalhead"
      ]
     },
     "execution_count": 27,
     "metadata": {},
     "output_type": "execute_result"
    }
   ],
   "source": [
    "key_terms = ['AI']\n",
    "\n",
    "model = TfidfVectorizer()\n",
    "\n",
    "matrix = model.fit_transform(df['Text'])\n",
    "key_terms_vector = model.transform(key_terms)\n",
    "cosine_similarities = linear_kernel(key_terms_vector, matrix)\n",
    "similarity_df = pd.DataFrame({'Episode': df['Episode'], 'Similarity': cosine_similarities[0]})\n",
    "\n",
    "sorted_df = similarity_df.sort_values(by='Similarity', ascending=False)\n",
    "\n",
    "relevant_episodes = sorted_df[sorted_df['Similarity'] > 0]\n",
    "\n",
    "relevant_episodes[['Episode']]"
   ]
  },
  {
   "cell_type": "markdown",
   "metadata": {},
   "source": [
    "# Save the Model"
   ]
  },
  {
   "cell_type": "code",
   "execution_count": 28,
   "metadata": {},
   "outputs": [
    {
     "data": {
      "text/plain": [
       "['episode2rec.pkl']"
      ]
     },
     "execution_count": 28,
     "metadata": {},
     "output_type": "execute_result"
    }
   ],
   "source": [
    "joblib.dump(model, 'episode2rec.pkl')"
   ]
  }
 ],
 "metadata": {
  "kernelspec": {
   "display_name": "Python 3",
   "language": "python",
   "name": "python3"
  },
  "language_info": {
   "codemirror_mode": {
    "name": "ipython",
    "version": 3
   },
   "file_extension": ".py",
   "mimetype": "text/x-python",
   "name": "python",
   "nbconvert_exporter": "python",
   "pygments_lexer": "ipython3",
   "version": "3.9.7"
  }
 },
 "nbformat": 4,
 "nbformat_minor": 2
}
